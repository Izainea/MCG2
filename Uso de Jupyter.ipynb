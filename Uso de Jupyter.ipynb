{
 "cells": [
  {
   "cell_type": "markdown",
   "metadata": {},
   "source": [
    "# Uso de Jupyter\n",
    "## Carlos Isaac Zainea Maya"
   ]
  },
  {
   "cell_type": "markdown",
   "metadata": {},
   "source": [
    "Iniciaremos esta parte del curso comprendiendo el uso de Jupyter, una aplicación web que permite crear cuadernos interacivos, documentos web editados con texto enriquecido y celdas de ejecución de código. \n",
    "\n",
    "La posibilidad de ejecutar código nos será muy útil para definir algoritmos, procesar datos y visualizar resultados en un mismo documento. "
   ]
  },
  {
   "cell_type": "markdown",
   "metadata": {},
   "source": [
    "## Instalación\n",
    "\n",
    "Sigue los siguientes pasos para instalar jupyter en tu pc:\n",
    "\n",
    "__1. Descargar Anaconda de (https://www.anaconda.com/distribution/), verifica que la descarga corresponda a Python 3.7 y a las condiciones específicas de tu equipo (Windows x64, Windows x32, macOS o Linux)__ \n",
    "\n",
    "<img src=\"https://raw.githubusercontent.com/Izainea/MCG2/master/InstalandoAnaconda.png\" >\n",
    "\n",
    "__2. Despúes de instalar Anaconda abrelo y lanza el aplicativo de Jupyter:__\n",
    "\n",
    "<img src=\"https://raw.githubusercontent.com/Izainea/MCG2/master/AnacondaOpen.png\">"
   ]
  },
  {
   "cell_type": "code",
   "execution_count": null,
   "metadata": {},
   "outputs": [],
   "source": []
  }
 ],
 "metadata": {
  "kernelspec": {
   "display_name": "Python 3",
   "language": "python",
   "name": "python3"
  },
  "language_info": {
   "codemirror_mode": {
    "name": "ipython",
    "version": 3
   },
   "file_extension": ".py",
   "mimetype": "text/x-python",
   "name": "python",
   "nbconvert_exporter": "python",
   "pygments_lexer": "ipython3",
   "version": "3.7.3"
  }
 },
 "nbformat": 4,
 "nbformat_minor": 2
}
